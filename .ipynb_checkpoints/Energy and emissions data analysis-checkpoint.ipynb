{
 "cells": [
  {
   "cell_type": "markdown",
   "metadata": {},
   "source": [
    "### Analysis of the scraped data"
   ]
  },
  {
   "cell_type": "markdown",
   "metadata": {},
   "source": [
    "#### Fossil fuel and renewables data cleaning, aggregating and plotting (all in thousands of megawatthours)"
   ]
  },
  {
   "cell_type": "markdown",
   "metadata": {},
   "source": [
    " - Fossil and renewable energy data both show net generation per month, by energy source\n",
    " - See items files in the scrapers for exactly what is included under each heading"
   ]
  },
  {
   "cell_type": "code",
   "execution_count": null,
   "metadata": {},
   "outputs": [],
   "source": [
    "import numpy as np\n",
    "from scipy import stats\n",
    "import pandas as pd\n",
    "\n",
    "from pathlib import Path\n",
    "import statsmodels.api as sm\n",
    "from pylab import rcParams\n",
    "import re\n",
    "\n",
    "import seaborn as sns\n",
    "from matplotlib import pyplot as plt\n",
    "plt.style.use('ggplot')\n",
    "import plotly\n",
    "plotly.tools.set_credentials_file(username='scollier95', api_key='fPWI7fnBxIFigL28FW7m')\n",
    "#plotly.offline.init_notebook_mode(connected=True)\n",
    "import plotly.graph_objs as go\n",
    "import plotly.figure_factory as ff\n",
    "import colorlover as cl"
   ]
  },
  {
   "cell_type": "markdown",
   "metadata": {},
   "source": [
    "##### Read in and clean data from the scraped csv's"
   ]
  },
  {
   "cell_type": "code",
   "execution_count": null,
   "metadata": {},
   "outputs": [],
   "source": [
    "old_renewable_data_path = Path(\"renewable_energy_old/RenewableEnergyOld.csv\")\n",
    "renewable_generation = pd.read_csv(old_renewable_data_path, index_col = 5)\n",
    "\n",
    "old_fossil_data_path = Path(\"fossil_energy_old/FossilEnergyOld.csv\")\n",
    "fossil_fuel_generation = pd.read_csv(old_fossil_data_path, index_col = 4)"
   ]
  },
  {
   "cell_type": "code",
   "execution_count": null,
   "metadata": {},
   "outputs": [],
   "source": [
    "new_renewable_data_path = Path(\"renewable_energy_new/RenewableEnergyNew.csv\")\n",
    "renewable_generation = renewable_generation.append(pd.read_csv(new_renewable_data_path, index_col = 5))\n",
    "\n",
    "new_fossil_data_path = Path(\"fossil_energy_new/FossilEnergyNew.csv\")\n",
    "fossil_fuel_generation = fossil_fuel_generation.append(pd.read_csv(new_fossil_data_path, index_col = 4))"
   ]
  },
  {
   "cell_type": "code",
   "execution_count": null,
   "metadata": {},
   "outputs": [],
   "source": [
    "fossil_fuel_generation.drop_duplicates(inplace = True)"
   ]
  },
  {
   "cell_type": "markdown",
   "metadata": {},
   "source": [
    "##### Check the shape and data types of the tables look correct"
   ]
  },
  {
   "cell_type": "code",
   "execution_count": null,
   "metadata": {},
   "outputs": [],
   "source": [
    "print(fossil_fuel_generation.shape)\n",
    "print(fossil_fuel_generation.head(1))\n",
    "print(fossil_fuel_generation.tail(1))\n",
    "print(renewable_generation.shape)\n",
    "print(renewable_generation.head(1))\n",
    "print(renewable_generation.tail(1))"
   ]
  },
  {
   "cell_type": "code",
   "execution_count": null,
   "metadata": {},
   "outputs": [],
   "source": [
    "print(fossil_fuel_generation.dtypes)\n",
    "print(renewable_generation.dtypes)"
   ]
  },
  {
   "cell_type": "markdown",
   "metadata": {},
   "source": [
    "##### Joining and plotting energy sources (slightly grouped)"
   ]
  },
  {
   "cell_type": "code",
   "execution_count": null,
   "metadata": {},
   "outputs": [],
   "source": [
    "# Join the tables to make a plot featuring all of the main energy sources\n",
    "energy_gen = pd.merge(fossil_fuel_generation,renewable_generation, how = 'inner', left_index = True, right_index = True)"
   ]
  },
  {
   "cell_type": "code",
   "execution_count": null,
   "metadata": {},
   "outputs": [],
   "source": [
    "# Following Plot.ly example for filled area plot, altering xticks and adding chart title and axis labels\n",
    "x = energy_gen.index.tolist()\n",
    "linewidth = 1.5\n",
    "brbg = cl.scales['10']['div']['BrBG']\n",
    "\n",
    "coal = dict(x=x, y=energy_gen['coal'].tolist(), hoverinfo='x+y', mode='lines', \\\n",
    "            line=dict(width=linewidth, color = brbg[1]), stackgroup='one', name='Coal')\n",
    "\n",
    "petroleum = dict(x=x, y=(energy_gen['petro_coke']+energy_gen['petro_liquids']).tolist(), \\\n",
    "                 hoverinfo='x+y', mode='lines', line=dict(width=linewidth, color = brbg[3]), name='Petroleum', stackgroup='one')\n",
    "\n",
    "gas = dict(x=x, y=(energy_gen['natural_gas']+energy_gen['other_gas']).tolist(), \\\n",
    "           hoverinfo='x+y', mode='lines', line=dict(width=linewidth, color = brbg[0]), name = 'Gas', stackgroup='one')\n",
    "\n",
    "nuclear = dict(x=x, y=energy_gen['nuclear'].tolist(), hoverinfo='x+y', mode='lines',\\\n",
    "            line=dict(width=linewidth, color = brbg[2]), name = 'Nuclear', stackgroup='one')\n",
    "\n",
    "wind = dict(x=x, y=energy_gen['wind'].tolist(), hoverinfo='x+y', mode='lines',\\\n",
    "            line=dict(width=linewidth, color = brbg[-4]), stackgroup='one', name='Wind')\n",
    "\n",
    "solar = dict(x=x, y=(energy_gen['solarpv_utility']+energy_gen['solarpv_small']+energy_gen['solar_thermal']).tolist(), \\\n",
    "             hoverinfo='x+y', mode='lines',line=dict(width=linewidth, color = brbg[-3]), stackgroup='one', name='Solar')\n",
    "\n",
    "biomass = dict(x=x, y=(energy_gen['bmsw']+energy_gen['landfill_gas']+energy_gen['other_waste']+energy_gen['wood']).tolist(), \\\n",
    "               hoverinfo='x+y', mode='lines',line=dict(width=linewidth, color = brbg[-2]), stackgroup='one', name='Biomass')\n",
    "\n",
    "geothermal = dict(x=x, y=energy_gen['geothermal'].tolist(), hoverinfo='x+y', mode='lines',\\\n",
    "            line=dict(width=linewidth, color = brbg[-1]), stackgroup='one', name='Geothermal')\n",
    "\n",
    "hydro = dict(x=x, y=energy_gen['hydro'].tolist(), hoverinfo='x+y', mode='lines',\\\n",
    "            line=dict(width=linewidth, color = brbg[-5]), stackgroup='one', name='Hydro')\n",
    "\n",
    "data=[gas, coal, nuclear, petroleum, hydro, wind, solar, biomass, geothermal]\n",
    "\n",
    "labels = ['January 2015', 'January 2016','January 2017','January 2018','January 2019']\n",
    "tickvals = ['January 2015', 'January 2016','January 2017','January 2018','January 2019']\n",
    "\n",
    "layout = dict(title = dict(text = 'Monthly energy generation', font = dict(family='calibri', size = 32)),\n",
    "              xaxis=go.layout.XAxis(ticktext=labels, tickvals=tickvals, title='Month', titlefont = dict(family='calibri', size = 24), tickangle=20, tickfont = dict(family='calibri', size = 18)),\n",
    "              yaxis = dict(title = '000\\'s of megawatt hours', titlefont = dict(family='calibri', size = 24), tickfont= dict(family='calibri', size = 18), exponentformat='e'),\n",
    "              shapes = [{ 'type':'line', 'x0':'20 January 2017', 'y0':0, 'x1':'20 January 2017', 'y1':420000, \\\n",
    "                            'line':dict(color = '#ff0000', width = 2, dash = 'dashdot')}],\n",
    "             legend = dict(yanchor = 'middle', y = 0.5, font = dict(family='calibri', size = 20)))\n",
    "# orientation = 'h', x = 0, y = 1.07,\n",
    "fig=dict(data=data, layout=layout)\n",
    "plotly.plotly.iplot(fig, fileopt = 'overwrite', filename = 'filled-area-us-electricity-generation')"
   ]
  },
  {
   "cell_type": "markdown",
   "metadata": {},
   "source": [
    " - Looks as if there is an annual pattern in the above data - lets split it before and after Trump was inaugurated, and see if there has been a change in the monthly averages"
   ]
  },
  {
   "cell_type": "code",
   "execution_count": null,
   "metadata": {},
   "outputs": [],
   "source": [
    "# For the total energy frame, split it either side of Trump's inauguration,\n",
    "# get the months as a column on their own, make them categorical so that they \n",
    "# retain order\n",
    "\n",
    "months = ['January', 'February', 'March', 'April', 'May', 'June', 'July', 'August', \\\n",
    "          'September', 'October', 'November', 'December']\n",
    "\n",
    "energy_gen['month'] = energy_gen.index.map(lambda x: re.sub('[\\d\\s]','',x))\n",
    "energy_gen['month']= pd.Categorical(energy_gen['month'], categories = months, ordered = True)\n",
    "\n",
    "pre_trump = energy_gen.loc['January 2015':'January 2017']\n",
    "post_trump = energy_gen.loc['February 2017':]"
   ]
  },
  {
   "cell_type": "code",
   "execution_count": null,
   "metadata": {},
   "outputs": [],
   "source": [
    "# Group the two resulting frames to average over the time period for each month, then add\n",
    "# columns showing the total renewable/fossil energy/nuclear (i.e. summed over the sources, have \n",
    "# to delve into the MultiIndex object of the grouped data frame)\n",
    "\n",
    "group_pre_t = pre_trump.groupby('month').agg(['mean'])\n",
    "group_post_t = post_trump.groupby('month').agg(['mean'])\n",
    "\n",
    "# Exclude nuclear from the column names, as it is not really renewable or fossil\n",
    "# Make a vector to index with that selects just the renewable/fossil columns to sum\n",
    "\n",
    "r_col_logical = [True if i in set(renewable_generation.columns) else False for i in group_pre_t.columns.levels[0]]\n",
    "group_pre_t['total_renewable'] = group_pre_t.loc[:,r_col_logical].sum(axis = 1)\n",
    "group_post_t['total_renewable'] = group_post_t.loc[:,r_col_logical].sum(axis = 1)\n",
    "\n",
    "no_nuclear = group_pre_t.columns.levels[0][group_pre_t.columns.levels[0] != 'nuclear']\n",
    "f_col_logical = [True if i in set(fossil_fuel_generation.columns) else False for i in no_nuclear]\n",
    "group_pre_t['total_ff'] = group_pre_t.loc[:,no_nuclear].loc[:,f_col_logical].sum(axis = 1)\n",
    "group_post_t['total_ff'] = group_post_t.loc[:,no_nuclear].loc[:,f_col_logical].sum(axis = 1)"
   ]
  },
  {
   "cell_type": "markdown",
   "metadata": {},
   "source": [
    "Now plot the nuclear, total renewable and total fossil fuel monthly average for the two portions of time and see if we can see a big difference"
   ]
  },
  {
   "cell_type": "code",
   "execution_count": null,
   "metadata": {},
   "outputs": [],
   "source": [
    "\n",
    "dark2 = cl.scales['6']['qual']['Dark2']\n",
    "pre_t_ff = go.Scatter(x=months, y = list(group_pre_t['total_ff']), name = 'Pre Trump fossil fuels', \\\n",
    "                      line = dict(color = dark2[0],width = 4))\n",
    "\n",
    "post_t_ff = go.Scatter(x=months, y = list(group_post_t['total_ff']), name = 'Post Trump fossil fuels', \\\n",
    "                       line = dict(color = dark2[1],width = 4))\n",
    "\n",
    "data2 = [pre_t_ff, post_t_ff]\n",
    "\n",
    "layout2 = dict(title = dict(text = 'Pre and post inauguration average fossil fuel generation', font = dict(family='calibri', size = 32)), \n",
    "               xaxis = dict(title = 'Month', titlefont = dict(family='calibri', size = 24), tickangle = 35, tickfont = dict(family='calibri', size = 18)),\n",
    "               yaxis = dict(title = '000\\'s of megawatt hours', titlefont = dict(family='calibri', size = 24), tickfont= dict(family='calibri', size = 18), exponentformat='e'), \n",
    "               legend = dict(orientation = 'h', yanchor = 'bottom', xanchor = 'center', x = 0.5, y = 1, font = dict(family='calibri', size = 20)))\n",
    "\n",
    "fig2 = dict(data=data2, layout=layout2)\n",
    "# plotly.offline.iplot(fig2)\n",
    "plotly.plotly.iplot(fig2, fileopt = 'overwrite', filename = 'pre-and-post-trump-ff-gen')"
   ]
  },
  {
   "cell_type": "code",
   "execution_count": null,
   "metadata": {},
   "outputs": [],
   "source": [
    "dark2 = cl.scales['6']['qual']['Dark2']\n",
    "\n",
    "pre_t_r = go.Scatter(x=months, y = list(group_pre_t['total_renewable']), name = 'Pre Trump<br>renewables', \\\n",
    "                       line = dict(color = dark2[2],width = 4))\n",
    "\n",
    "post_t_r = go.Scatter(x=months, y = list(group_post_t['total_renewable']), name = 'Post Trump<br>renewables', \\\n",
    "                       line = dict(color = dark2[3],width = 4))\n",
    "\n",
    "pre_t_n = go.Scatter(x=months, y = list(group_pre_t['nuclear']['mean']), name = 'Pre Trump<br>nuclear', \\\n",
    "                       line = dict(color = dark2[4],width = 4))\n",
    "\n",
    "post_t_n = go.Scatter(x=months, y = list(group_post_t['nuclear']['mean']), name = 'Post Trump<br>nuclear', \\\n",
    "                       line = dict(color = dark2[5],width = 4))\n",
    "data3 = [post_t_n, pre_t_n, post_t_r, pre_t_r]\n",
    "\n",
    "layout3 = dict(title = dict(text = 'Pre and post inauguration <br> average renewable and nuclear generation', font = dict(family='calibri', size = 30)),\n",
    "               xaxis = dict(title = 'Month', titlefont = dict(family='calibri', size = 24), tickangle = 35, tickfont = dict(family='calibri', size = 18)),\n",
    "               yaxis = dict(title = '000\\'s of megawatt hours', titlefont = dict(family='calibri', size = 24), tickfont= dict(family='calibri', size = 18), exponentformat='e'),\n",
    "               legend = dict(yanchor = 'middle', y = 0.5, font = dict(family='calibri', size = 20)))\n",
    "\n",
    "fig3= dict(data=data3, layout=layout3)\n",
    "# plotly.offline.iplot(fig3)\n",
    "plotly.plotly.iplot(fig3, fileopt = 'overwrite', filename = 'pre-and-post-trump-renewable-and-nuclear-gen')"
   ]
  },
  {
   "cell_type": "markdown",
   "metadata": {},
   "source": [
    " - Doesn't seem to be much difference! In fact, looks like post-Trump there has been an average decrease in fossil fuel generation, and an average increase in renewable generation.\n",
    " - Use statistical tests to see if this difference is significant, need to check they are applicable before using them"
   ]
  },
  {
   "cell_type": "code",
   "execution_count": null,
   "metadata": {},
   "outputs": [],
   "source": [
    "renewable_generation['total'] = renewable_generation.sum(axis = 1)\n",
    "ren_gen_pre_t = renewable_generation.loc['January 2015':'January 2017']\n",
    "ren_gen_post_t = renewable_generation.loc['February 2017':]"
   ]
  },
  {
   "cell_type": "code",
   "execution_count": null,
   "metadata": {},
   "outputs": [],
   "source": [
    "fossil_fuel_generation['total'] = fossil_fuel_generation.loc[:,['coal', 'natural_gas', 'other_gas', 'petro_coke', 'petro_liquids']].sum(axis = 1)\n",
    "fos_gen_pre_t = fossil_fuel_generation.loc['January 2015':'January 2017']\n",
    "fos_gen_post_t = fossil_fuel_generation.loc['February 2017':]"
   ]
  },
  {
   "cell_type": "markdown",
   "metadata": {},
   "source": [
    "##### Statistical testing and assumption verification"
   ]
  },
  {
   "cell_type": "code",
   "execution_count": null,
   "metadata": {},
   "outputs": [],
   "source": [
    "# Make histogram to visually inspect normality - assuming populations are the whole\n",
    "# sets of renewable and fossil fuel generation data\n",
    "print(fossil_fuel_generation[['total']].describe())\n",
    "mean_median_diff_f = round(abs((fossil_fuel_generation['total'].median() - fossil_fuel_generation['total'].mean()) / fossil_fuel_generation['total'].mean())*100, 3)\n",
    "print('median diff from mean: ' + str(mean_median_diff_f) + \"%\")\n",
    "\n",
    "plt.title(\"Distribution of monthly fossil fuel generation\", fontdict = {'family':'calibri', 'size':40, 'color':'#404040'})\n",
    "plt.xlabel('Total', fontdict = {'family':'calibri', 'size':30, 'color':'#404040'})\n",
    "plt.ylabel('Proportion', fontdict = {'family':'calibri', 'size':30, 'color':'#404040'})\n",
    "ff_dist = sns.distplot(fossil_fuel_generation['total'], color = 'r', bins = 10).tick_params(axis = 'both', labelsize = 24, colors = '#404040')\n",
    "plt.savefig(\"Fossil fuel distribution.png\")"
   ]
  },
  {
   "cell_type": "code",
   "execution_count": null,
   "metadata": {},
   "outputs": [],
   "source": [
    "print(renewable_generation[['total']].describe())\n",
    "mean_median_diff_r = round(abs((renewable_generation['total'].median() - renewable_generation['total'].mean()) / renewable_generation['total'].mean())*100, 3)\n",
    "print('median diff from mean: ' + str(mean_median_diff_r) + \"%\")\n",
    "\n",
    "plt.title(\"Distribution of monthly renewable generation\", fontdict = {'family':'calibri', 'size':40, 'color':'#404040'})\n",
    "plt.xlabel('Total', fontdict = {'family':'calibri', 'size':30, 'color':'#404040'})\n",
    "plt.ylabel('Proportion', fontdict = {'family':'calibri', 'size':30, 'color':'#404040'})\n",
    "ren_dist = sns.distplot(renewable_generation['total'], color = 'g', bins = 10).tick_params(axis = 'both', labelsize = 24, colors = '#404040')\n",
    "plt.savefig(\"Renewable distribution.png\")"
   ]
  },
  {
   "cell_type": "code",
   "execution_count": null,
   "metadata": {},
   "outputs": [],
   "source": [
    "# Do a Shapiro - Wilk test, which is supposed to be suitable for relatively smaller data sets\n",
    "# Assumes a null hypothesis that data is normally distributed, low p-value means reject\n",
    "\n",
    "# PROBLEM IS THAT THIS STILL ASSUMES A PRETTY BIG SAMPLE - small sample sizes, normality tests have \n",
    "# little power to reject the null hypothesis and therefore small samples most often pass normality tests\n",
    "stat1, p1 = stats.shapiro(fossil_fuel_generation['total'])\n",
    "print(\"Fossil fuel Shapiro - Wilk p-value: \" + str(p1))\n",
    "\n",
    "stat2, p2 = stats.shapiro(renewable_generation['total'])\n",
    "print(\"Renewable Shapiro - Wilk p-value: \" + str(p2))"
   ]
  },
  {
   "cell_type": "code",
   "execution_count": null,
   "metadata": {},
   "outputs": [],
   "source": [
    "# Check with a D'Agostino/Pearson omnibus test (checks for skew and kurtosis):\n",
    "stat3, p3 = stats.normaltest(fossil_fuel_generation['total'])\n",
    "print(\"Fossil fuel D'Agostino/Pearson p-value: \" + str(p3))\n",
    "\n",
    "stat4, p4 = stats.normaltest(renewable_generation['total'])\n",
    "print(\"Renewable D'Agostino/Pearson p-value: \" + str(p4))"
   ]
  },
  {
   "cell_type": "code",
   "execution_count": null,
   "metadata": {},
   "outputs": [],
   "source": [
    "# Check further with a Anderson-Darling test, which tests the null hypothesis \n",
    "# that a sample is drawn from a population that follows a particular distribution \n",
    "# (normal in this case). If the returned statistic is larger than the critical \n",
    "# value then for the corresponding significance level, the null hypothesis that \n",
    "# the data come from the chosen distribution can be rejected.\n",
    "stat5, crit_val_f, sig_level_f = stats.anderson(fossil_fuel_generation['total'])\n",
    "print(\"Fossil fuel Anderson-Darling:\\n\" + \"Statistic: \" + str(round(stat5,3)) + \"\\nCritical values: \" + str(crit_val_f) + \"\\nSignificance level: \" + str(sig_level_f) +\"\\n\")\n",
    "\n",
    "stat6, crit_val_r, sig_level_r = stats.anderson(renewable_generation['total'])\n",
    "print(\"Renewable Anderson-Darling:\\n\" + \"Statistic: \" + str(round(stat6,3)) + \"\\nCritical values: \" + str(crit_val_r) + \"\\nSignificance level: \" + str(sig_level_r))"
   ]
  },
  {
   "cell_type": "markdown",
   "metadata": {},
   "source": [
    " - Neither distribution looks particularly normal, though the renewable generation is definitely less skewed, and it's mean and median are more similar\n",
    " - Shapiro - Wilk sugests we reject H0 of a gaussian distribution for fossil fuel generation, but fail to reject it for renewables (alpha = 5%)\n",
    " - D'Agostino and Pearson fails to reject the null hypothesis of a normal distribution for either source\n",
    " - Anderson - Darling:\n",
    "      - finds that for fossil fuels, 4/5 of the sig levels tested end up rejecting the null hypothesis that the data is normal\n",
    "      - finds that for renewables, at all of the significance levels the null hypothesis of normality cannot be rejected"
   ]
  },
  {
   "cell_type": "markdown",
   "metadata": {},
   "source": [
    "**On balance, I am going to move forward assuming the renewable generation to be normally distributed, but for fossil fuels I will NOT make that assumption**"
   ]
  },
  {
   "cell_type": "markdown",
   "metadata": {},
   "source": [
    "As such, perform a two sample t-test on the renewable data to compare either side of T-day, essentially taking the data sets either side of the split as samples from the population of all of the data. Note the assumptions:\n",
    " - Satisfied: The populations from which the samples are drawn are normally dist \n",
    " - Not neccessary: The standard deviations of the two populations are equal.\n",
    " - Hmm....: Sample observations are randomly drawn and independent."
   ]
  },
  {
   "cell_type": "code",
   "execution_count": null,
   "metadata": {},
   "outputs": [],
   "source": [
    "# Welch's two sample t-test comparing means of renewable generation time series before and after T-Day\n",
    "stats.ttest_ind(np.array(ren_gen_pre_t['total']), np.array(ren_gen_post_t['total']), equal_var = False)"
   ]
  },
  {
   "cell_type": "markdown",
   "metadata": {},
   "source": [
    " - p-value well below threshold, therefore **reject the null hypothesis that the mean renewable generation before and after Trump's inauguration is the same** "
   ]
  },
  {
   "cell_type": "markdown",
   "metadata": {},
   "source": [
    " For the fossil-fuel generation, need to use the Mann-Whitney U test, a non-parametric test for the null hypothesis that two independent samples were selected from populations having the same mean (equivalent to t-test with no normality assumption, but less powerful)\n",
    " \n",
    " Assumptions:\n",
    "  - Hmm...: Independent observations\n",
    "  - Satisfied: Ordinal observations\n",
    "  - Equal population distributions of both samples under H0 \n",
    "  - H1 is that population distributions are not equal"
   ]
  },
  {
   "cell_type": "code",
   "execution_count": null,
   "metadata": {},
   "outputs": [],
   "source": [
    "stats.mannwhitneyu(np.array(fos_gen_pre_t['total']), np.array(fos_gen_post_t['total']), alternative = 'two-sided', )"
   ]
  },
  {
   "cell_type": "markdown",
   "metadata": {},
   "source": [
    "p-value well above 5% threshold indicates we cannot reject the null hypothesis that the population distributions of both fossil fuel generation samples, either side of T-day, are equal.\n",
    "**So conclude that there does not appear to have been any statistically significant change in fossil fuel generation under Trump**"
   ]
  },
  {
   "cell_type": "markdown",
   "metadata": {},
   "source": [
    " - Was the renewable generation already on an upward trend before the inauguration? This requires further time series analysis"
   ]
  },
  {
   "cell_type": "markdown",
   "metadata": {},
   "source": [
    "##### Time series decomposition"
   ]
  },
  {
   "cell_type": "code",
   "execution_count": null,
   "metadata": {},
   "outputs": [],
   "source": [
    "# Make a copy of the renewable generation data frame, changing the index to a datetime to make a timeseries\n",
    "ren_gen_datetime_index = renewable_generation.copy()\n",
    "ren_gen_datetime_index.index = pd.to_datetime(ren_gen_datetime_index.index)\n",
    "\n",
    "# Decompose the time series data into three components\n",
    "rcParams['figure.figsize'] = 20, 10\n",
    "decomposition = sm.tsa.seasonal_decompose(ren_gen_datetime_index['total'], model='additive')\n",
    "fig = decomposition.plot()\n",
    "plt.savefig(\"Renewable time series decomposition\")\n",
    "plt.show()"
   ]
  },
  {
   "cell_type": "code",
   "execution_count": null,
   "metadata": {},
   "outputs": [],
   "source": []
  }
 ],
 "metadata": {
  "kernelspec": {
   "display_name": "Python 3",
   "language": "python",
   "name": "python3"
  },
  "language_info": {
   "codemirror_mode": {
    "name": "ipython",
    "version": 3
   },
   "file_extension": ".py",
   "mimetype": "text/x-python",
   "name": "python",
   "nbconvert_exporter": "python",
   "pygments_lexer": "ipython3",
   "version": "3.7.3"
  }
 },
 "nbformat": 4,
 "nbformat_minor": 2
}
